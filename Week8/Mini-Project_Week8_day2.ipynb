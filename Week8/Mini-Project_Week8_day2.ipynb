{
 "cells": [
  {
   "cell_type": "code",
   "execution_count": null,
   "id": "f091487f",
   "metadata": {},
   "outputs": [
    {
     "name": "stdout",
     "output_type": "stream",
     "text": [
      "     Plan Name Price ($/mo)           vCPU       RAM             SSD  \\\n",
      "0   VPS 2 vCPU        $4.49   2 vCPU Cores   4GB RAM   50GB NVMe SSD   \n",
      "1   VPS 4 vCPU        $9.99   4 vCPU Cores   8GB RAM  160GB NVMe SSD   \n",
      "2   VPS 8 vCPU       $19.99   8 vCPU Cores  16GB RAM  260GB NVMe SSD   \n",
      "3  VPS 12 vCPU       $31.99  12 vCPU Cores  24GB RAM  360GB NVMe SSD   \n",
      "4  VPS 16 vCPU       $44.99  16 vCPU Cores  32GB RAM  460GB NVMe SSD   \n",
      "\n",
      "             Bandwidth      Dedicated IP  \n",
      "0        5TB Bandwidth    1 Dedicated IP  \n",
      "1        5TB Bandwidth   2 Dedicated IPs  \n",
      "2  Unlimited Bandwidth   3 Dedicated IPs  \n",
      "3  Unlimited Bandwidth   5 Dedicated IPs  \n",
      "4  Unlimited Bandwidth  10 Dedicated IPs  \n"
     ]
    }
   ],
   "source": [
    "from selenium import webdriver\n",
    "from selenium.webdriver.chrome.options import Options\n",
    "from bs4 import BeautifulSoup\n",
    "import pandas as pd\n",
    "import time\n",
    "\n",
    "# Set up Chrome options (headless mode)\n",
    "options = Options()\n",
    "options.add_argument(\"--headless\")\n",
    "options.add_argument(\"--disable-gpu\")\n",
    "options.add_argument(\"--no-sandbox\")\n",
    "options.add_argument(\"user-agent=Mozilla/5.0 (Windows NT 10.0; Win64; x64) AppleWebKit/537.36 (KHTML, like Gecko) Chrome/115.0.0.0 Safari/537.36\")\n",
    "\n",
    "# Start Chrome and open the page\n",
    "driver = webdriver.Chrome(options=options)\n",
    "driver.get(\"https://www.inmotionhosting.com/vps-hosting\")\n",
    "time.sleep(3)  # Wait for the page to load\n",
    "\n",
    "# Parse HTML with BeautifulSoup\n",
    "soup = BeautifulSoup(driver.page_source, \"html.parser\")\n",
    "driver.quit()\n",
    "\n",
    "def get_feature_text(li):\n",
    "    # Merge all text from <li> element\n",
    "    return ' '.join(li.stripped_strings)\n",
    "\n",
    "# Find all plan cards\n",
    "cards = soup.find_all(\"div\", class_=\"imh-rostrum-card\")\n",
    "\n",
    "plans = []\n",
    "for card in cards:\n",
    "    plan_name = card.find(\"h3\", class_=\"imh-rostrum-card-title\").get_text(strip=True)\n",
    "    price_tag = card.find(\"span\", class_=\"rostrum-price\")\n",
    "    price = price_tag.get_text(strip=True) if price_tag else None\n",
    "    features = [get_feature_text(li) for li in card.select(\"ul.imh-rostrum-details-list li\")]\n",
    "    vcpu      = next((x for x in features if \"vCPU\" in x), None)\n",
    "    ram       = next((x for x in features if \"RAM\" in x), None)\n",
    "    ssd       = next((x for x in features if \"SSD\" in x), None)\n",
    "    bandwidth = next((x for x in features if \"Bandwidth\" in x), None)\n",
    "    ip        = next((x for x in features if \"Dedicated IP\" in x), None)\n",
    "    plans.append({\n",
    "        \"Plan Name\": plan_name,\n",
    "        \"Price ($/mo)\": price,\n",
    "        \"vCPU\": vcpu,\n",
    "        \"RAM\": ram,\n",
    "        \"SSD\": ssd,\n",
    "        \"Bandwidth\": bandwidth,\n",
    "        \"Dedicated IP\": ip\n",
    "    })\n",
    "\n",
    "# Convert to DataFrame\n",
    "df = pd.DataFrame(plans)\n",
    "df = df.fillna(\"\")\n",
    "print(df)"
   ]
  }
 ],
 "metadata": {
  "kernelspec": {
   "display_name": "Python 3",
   "language": "python",
   "name": "python3"
  },
  "language_info": {
   "codemirror_mode": {
    "name": "ipython",
    "version": 3
   },
   "file_extension": ".py",
   "mimetype": "text/x-python",
   "name": "python",
   "nbconvert_exporter": "python",
   "pygments_lexer": "ipython3",
   "version": "3.13.3"
  }
 },
 "nbformat": 4,
 "nbformat_minor": 5
}
