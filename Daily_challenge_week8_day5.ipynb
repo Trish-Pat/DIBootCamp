{
  "metadata": {
    "kernelspec": {
      "language": "python",
      "display_name": "Python 3",
      "name": "python3"
    },
    "language_info": {
      "pygments_lexer": "ipython3",
      "nbconvert_exporter": "python",
      "version": "3.6.4",
      "file_extension": ".py",
      "codemirror_mode": {
        "name": "ipython",
        "version": 3
      },
      "name": "python",
      "mimetype": "text/x-python"
    },
    "kaggle": {
      "accelerator": "none",
      "dataSources": [
        {
          "sourceId": 4213024,
          "sourceType": "datasetVersion",
          "datasetId": 2479030
        }
      ],
      "dockerImageVersionId": 30558,
      "isInternetEnabled": false,
      "language": "python",
      "sourceType": "notebook",
      "isGpuEnabled": false
    },
    "colab": {
      "provenance": [],
      "include_colab_link": true
    }
  },
  "nbformat_minor": 0,
  "nbformat": 4,
  "cells": [
    {
      "cell_type": "markdown",
      "metadata": {
        "id": "view-in-github",
        "colab_type": "text"
      },
      "source": [
        "<a href=\"https://colab.research.google.com/github/Trish-Pat/DIBootCamp/blob/main/Daily_challenge_week8_day5.ipynb\" target=\"_parent\"><img src=\"https://colab.research.google.com/assets/colab-badge.svg\" alt=\"Open In Colab\"/></a>"
      ]
    },
    {
      "cell_type": "code",
      "source": [
        "import numpy as np\n",
        "import pandas as pd\n",
        "import matplotlib.pyplot as plt\n",
        "import seaborn as sns\n",
        "import itertools\n",
        "import statsmodels.stats.api as sms\n",
        "from scipy.stats import (ttest_1samp, shapiro, levene, ttest_ind, mannwhitneyu,\n",
        "                         pearsonr, spearmanr, kendalltau, f_oneway, kruskal)\n",
        "from statsmodels.stats.proportion import proportions_ztest\n",
        "from statsmodels.stats.multicomp import MultiComparison\n"
      ],
      "metadata": {
        "_uuid": "8f2839f25d086af736a60e9eeb907d3b93b6e0e5",
        "_cell_guid": "b1076dfc-b9ad-4769-8c92-a6c4dae69d19",
        "execution": {
          "iopub.status.busy": "2023-11-06T18:15:49.893535Z",
          "iopub.execute_input": "2023-11-06T18:15:49.894197Z",
          "iopub.status.idle": "2023-11-06T18:15:49.925697Z",
          "shell.execute_reply.started": "2023-11-06T18:15:49.894137Z",
          "shell.execute_reply": "2023-11-06T18:15:49.924613Z"
        },
        "trusted": true,
        "id": "NxVVGK3Ervuh"
      },
      "execution_count": null,
      "outputs": []
    },
    {
      "cell_type": "code",
      "source": [
        "# TODO : Import the Data from the kaggle API\n",
        "df = pd.read_csv('AB_Test_Results.csv')\n",
        "df.head()"
      ],
      "metadata": {
        "id": "3tOTF5-JoVbY",
        "colab": {
          "base_uri": "https://localhost:8080/",
          "height": 206
        },
        "outputId": "324c52b7-748d-4806-9b9a-8804bc6300ba"
      },
      "execution_count": null,
      "outputs": [
        {
          "output_type": "execute_result",
          "data": {
            "text/plain": [
              "   USER_ID VARIANT_NAME  REVENUE\n",
              "0      737      variant      0.0\n",
              "1     2423      control      0.0\n",
              "2     9411      control      0.0\n",
              "3     7311      control      0.0\n",
              "4     6174      variant      0.0"
            ],
            "text/html": [
              "\n",
              "  <div id=\"df-341220d6-95b8-4a42-bdba-491309953f42\" class=\"colab-df-container\">\n",
              "    <div>\n",
              "<style scoped>\n",
              "    .dataframe tbody tr th:only-of-type {\n",
              "        vertical-align: middle;\n",
              "    }\n",
              "\n",
              "    .dataframe tbody tr th {\n",
              "        vertical-align: top;\n",
              "    }\n",
              "\n",
              "    .dataframe thead th {\n",
              "        text-align: right;\n",
              "    }\n",
              "</style>\n",
              "<table border=\"1\" class=\"dataframe\">\n",
              "  <thead>\n",
              "    <tr style=\"text-align: right;\">\n",
              "      <th></th>\n",
              "      <th>USER_ID</th>\n",
              "      <th>VARIANT_NAME</th>\n",
              "      <th>REVENUE</th>\n",
              "    </tr>\n",
              "  </thead>\n",
              "  <tbody>\n",
              "    <tr>\n",
              "      <th>0</th>\n",
              "      <td>737</td>\n",
              "      <td>variant</td>\n",
              "      <td>0.0</td>\n",
              "    </tr>\n",
              "    <tr>\n",
              "      <th>1</th>\n",
              "      <td>2423</td>\n",
              "      <td>control</td>\n",
              "      <td>0.0</td>\n",
              "    </tr>\n",
              "    <tr>\n",
              "      <th>2</th>\n",
              "      <td>9411</td>\n",
              "      <td>control</td>\n",
              "      <td>0.0</td>\n",
              "    </tr>\n",
              "    <tr>\n",
              "      <th>3</th>\n",
              "      <td>7311</td>\n",
              "      <td>control</td>\n",
              "      <td>0.0</td>\n",
              "    </tr>\n",
              "    <tr>\n",
              "      <th>4</th>\n",
              "      <td>6174</td>\n",
              "      <td>variant</td>\n",
              "      <td>0.0</td>\n",
              "    </tr>\n",
              "  </tbody>\n",
              "</table>\n",
              "</div>\n",
              "    <div class=\"colab-df-buttons\">\n",
              "\n",
              "  <div class=\"colab-df-container\">\n",
              "    <button class=\"colab-df-convert\" onclick=\"convertToInteractive('df-341220d6-95b8-4a42-bdba-491309953f42')\"\n",
              "            title=\"Convert this dataframe to an interactive table.\"\n",
              "            style=\"display:none;\">\n",
              "\n",
              "  <svg xmlns=\"http://www.w3.org/2000/svg\" height=\"24px\" viewBox=\"0 -960 960 960\">\n",
              "    <path d=\"M120-120v-720h720v720H120Zm60-500h600v-160H180v160Zm220 220h160v-160H400v160Zm0 220h160v-160H400v160ZM180-400h160v-160H180v160Zm440 0h160v-160H620v160ZM180-180h160v-160H180v160Zm440 0h160v-160H620v160Z\"/>\n",
              "  </svg>\n",
              "    </button>\n",
              "\n",
              "  <style>\n",
              "    .colab-df-container {\n",
              "      display:flex;\n",
              "      gap: 12px;\n",
              "    }\n",
              "\n",
              "    .colab-df-convert {\n",
              "      background-color: #E8F0FE;\n",
              "      border: none;\n",
              "      border-radius: 50%;\n",
              "      cursor: pointer;\n",
              "      display: none;\n",
              "      fill: #1967D2;\n",
              "      height: 32px;\n",
              "      padding: 0 0 0 0;\n",
              "      width: 32px;\n",
              "    }\n",
              "\n",
              "    .colab-df-convert:hover {\n",
              "      background-color: #E2EBFA;\n",
              "      box-shadow: 0px 1px 2px rgba(60, 64, 67, 0.3), 0px 1px 3px 1px rgba(60, 64, 67, 0.15);\n",
              "      fill: #174EA6;\n",
              "    }\n",
              "\n",
              "    .colab-df-buttons div {\n",
              "      margin-bottom: 4px;\n",
              "    }\n",
              "\n",
              "    [theme=dark] .colab-df-convert {\n",
              "      background-color: #3B4455;\n",
              "      fill: #D2E3FC;\n",
              "    }\n",
              "\n",
              "    [theme=dark] .colab-df-convert:hover {\n",
              "      background-color: #434B5C;\n",
              "      box-shadow: 0px 1px 3px 1px rgba(0, 0, 0, 0.15);\n",
              "      filter: drop-shadow(0px 1px 2px rgba(0, 0, 0, 0.3));\n",
              "      fill: #FFFFFF;\n",
              "    }\n",
              "  </style>\n",
              "\n",
              "    <script>\n",
              "      const buttonEl =\n",
              "        document.querySelector('#df-341220d6-95b8-4a42-bdba-491309953f42 button.colab-df-convert');\n",
              "      buttonEl.style.display =\n",
              "        google.colab.kernel.accessAllowed ? 'block' : 'none';\n",
              "\n",
              "      async function convertToInteractive(key) {\n",
              "        const element = document.querySelector('#df-341220d6-95b8-4a42-bdba-491309953f42');\n",
              "        const dataTable =\n",
              "          await google.colab.kernel.invokeFunction('convertToInteractive',\n",
              "                                                    [key], {});\n",
              "        if (!dataTable) return;\n",
              "\n",
              "        const docLinkHtml = 'Like what you see? Visit the ' +\n",
              "          '<a target=\"_blank\" href=https://colab.research.google.com/notebooks/data_table.ipynb>data table notebook</a>'\n",
              "          + ' to learn more about interactive tables.';\n",
              "        element.innerHTML = '';\n",
              "        dataTable['output_type'] = 'display_data';\n",
              "        await google.colab.output.renderOutput(dataTable, element);\n",
              "        const docLink = document.createElement('div');\n",
              "        docLink.innerHTML = docLinkHtml;\n",
              "        element.appendChild(docLink);\n",
              "      }\n",
              "    </script>\n",
              "  </div>\n",
              "\n",
              "\n",
              "<div id=\"df-cf8ea3b9-3020-489a-9594-4f14e4aace4e\">\n",
              "  <button class=\"colab-df-quickchart\" onclick=\"quickchart('df-cf8ea3b9-3020-489a-9594-4f14e4aace4e')\"\n",
              "            title=\"Suggest charts\"\n",
              "            style=\"display:none;\">\n",
              "\n",
              "<svg xmlns=\"http://www.w3.org/2000/svg\" height=\"24px\"viewBox=\"0 0 24 24\"\n",
              "     width=\"24px\">\n",
              "    <g>\n",
              "        <path d=\"M19 3H5c-1.1 0-2 .9-2 2v14c0 1.1.9 2 2 2h14c1.1 0 2-.9 2-2V5c0-1.1-.9-2-2-2zM9 17H7v-7h2v7zm4 0h-2V7h2v10zm4 0h-2v-4h2v4z\"/>\n",
              "    </g>\n",
              "</svg>\n",
              "  </button>\n",
              "\n",
              "<style>\n",
              "  .colab-df-quickchart {\n",
              "      --bg-color: #E8F0FE;\n",
              "      --fill-color: #1967D2;\n",
              "      --hover-bg-color: #E2EBFA;\n",
              "      --hover-fill-color: #174EA6;\n",
              "      --disabled-fill-color: #AAA;\n",
              "      --disabled-bg-color: #DDD;\n",
              "  }\n",
              "\n",
              "  [theme=dark] .colab-df-quickchart {\n",
              "      --bg-color: #3B4455;\n",
              "      --fill-color: #D2E3FC;\n",
              "      --hover-bg-color: #434B5C;\n",
              "      --hover-fill-color: #FFFFFF;\n",
              "      --disabled-bg-color: #3B4455;\n",
              "      --disabled-fill-color: #666;\n",
              "  }\n",
              "\n",
              "  .colab-df-quickchart {\n",
              "    background-color: var(--bg-color);\n",
              "    border: none;\n",
              "    border-radius: 50%;\n",
              "    cursor: pointer;\n",
              "    display: none;\n",
              "    fill: var(--fill-color);\n",
              "    height: 32px;\n",
              "    padding: 0;\n",
              "    width: 32px;\n",
              "  }\n",
              "\n",
              "  .colab-df-quickchart:hover {\n",
              "    background-color: var(--hover-bg-color);\n",
              "    box-shadow: 0 1px 2px rgba(60, 64, 67, 0.3), 0 1px 3px 1px rgba(60, 64, 67, 0.15);\n",
              "    fill: var(--button-hover-fill-color);\n",
              "  }\n",
              "\n",
              "  .colab-df-quickchart-complete:disabled,\n",
              "  .colab-df-quickchart-complete:disabled:hover {\n",
              "    background-color: var(--disabled-bg-color);\n",
              "    fill: var(--disabled-fill-color);\n",
              "    box-shadow: none;\n",
              "  }\n",
              "\n",
              "  .colab-df-spinner {\n",
              "    border: 2px solid var(--fill-color);\n",
              "    border-color: transparent;\n",
              "    border-bottom-color: var(--fill-color);\n",
              "    animation:\n",
              "      spin 1s steps(1) infinite;\n",
              "  }\n",
              "\n",
              "  @keyframes spin {\n",
              "    0% {\n",
              "      border-color: transparent;\n",
              "      border-bottom-color: var(--fill-color);\n",
              "      border-left-color: var(--fill-color);\n",
              "    }\n",
              "    20% {\n",
              "      border-color: transparent;\n",
              "      border-left-color: var(--fill-color);\n",
              "      border-top-color: var(--fill-color);\n",
              "    }\n",
              "    30% {\n",
              "      border-color: transparent;\n",
              "      border-left-color: var(--fill-color);\n",
              "      border-top-color: var(--fill-color);\n",
              "      border-right-color: var(--fill-color);\n",
              "    }\n",
              "    40% {\n",
              "      border-color: transparent;\n",
              "      border-right-color: var(--fill-color);\n",
              "      border-top-color: var(--fill-color);\n",
              "    }\n",
              "    60% {\n",
              "      border-color: transparent;\n",
              "      border-right-color: var(--fill-color);\n",
              "    }\n",
              "    80% {\n",
              "      border-color: transparent;\n",
              "      border-right-color: var(--fill-color);\n",
              "      border-bottom-color: var(--fill-color);\n",
              "    }\n",
              "    90% {\n",
              "      border-color: transparent;\n",
              "      border-bottom-color: var(--fill-color);\n",
              "    }\n",
              "  }\n",
              "</style>\n",
              "\n",
              "  <script>\n",
              "    async function quickchart(key) {\n",
              "      const quickchartButtonEl =\n",
              "        document.querySelector('#' + key + ' button');\n",
              "      quickchartButtonEl.disabled = true;  // To prevent multiple clicks.\n",
              "      quickchartButtonEl.classList.add('colab-df-spinner');\n",
              "      try {\n",
              "        const charts = await google.colab.kernel.invokeFunction(\n",
              "            'suggestCharts', [key], {});\n",
              "      } catch (error) {\n",
              "        console.error('Error during call to suggestCharts:', error);\n",
              "      }\n",
              "      quickchartButtonEl.classList.remove('colab-df-spinner');\n",
              "      quickchartButtonEl.classList.add('colab-df-quickchart-complete');\n",
              "    }\n",
              "    (() => {\n",
              "      let quickchartButtonEl =\n",
              "        document.querySelector('#df-cf8ea3b9-3020-489a-9594-4f14e4aace4e button');\n",
              "      quickchartButtonEl.style.display =\n",
              "        google.colab.kernel.accessAllowed ? 'block' : 'none';\n",
              "    })();\n",
              "  </script>\n",
              "</div>\n",
              "\n",
              "    </div>\n",
              "  </div>\n"
            ],
            "application/vnd.google.colaboratory.intrinsic+json": {
              "type": "dataframe",
              "variable_name": "df",
              "summary": "{\n  \"name\": \"df\",\n  \"rows\": 10000,\n  \"fields\": [\n    {\n      \"column\": \"USER_ID\",\n      \"properties\": {\n        \"dtype\": \"number\",\n        \"std\": 2890,\n        \"min\": 2,\n        \"max\": 10000,\n        \"num_unique_values\": 6324,\n        \"samples\": [\n          2159,\n          5040,\n          418\n        ],\n        \"semantic_type\": \"\",\n        \"description\": \"\"\n      }\n    },\n    {\n      \"column\": \"VARIANT_NAME\",\n      \"properties\": {\n        \"dtype\": \"category\",\n        \"num_unique_values\": 2,\n        \"samples\": [\n          \"control\",\n          \"variant\"\n        ],\n        \"semantic_type\": \"\",\n        \"description\": \"\"\n      }\n    },\n    {\n      \"column\": \"REVENUE\",\n      \"properties\": {\n        \"dtype\": \"number\",\n        \"std\": 2.3185286544931945,\n        \"min\": 0.0,\n        \"max\": 196.01,\n        \"num_unique_values\": 101,\n        \"samples\": [\n          1.3,\n          3.97\n        ],\n        \"semantic_type\": \"\",\n        \"description\": \"\"\n      }\n    }\n  ]\n}"
            }
          },
          "metadata": {},
          "execution_count": 2
        }
      ]
    },
    {
      "cell_type": "markdown",
      "source": [
        "# Data Understanding"
      ],
      "metadata": {
        "id": "x4TkAvmHrvuk"
      }
    },
    {
      "cell_type": "code",
      "source": [
        "#TODO : compute the following : DataFrame Information, Columns in DataFrame,\n",
        "# Counting Missing Values, Descriptive Statistics, Value Counts for VARIANT_NAME, Counting Unique Users in USER_ID\n",
        "\n",
        "# Info\n",
        "print(\"===== Info : =====\")\n",
        "df.info()\n",
        "\n",
        "# Columns\n",
        "print(\"\\n===== Columns : =====\")\n",
        "print(df.columns)\n",
        "\n",
        "# Missing Values\n",
        "print(\"\\n===== Missing Values : =====\")\n",
        "print(df.isnull().sum())\n",
        "\n",
        "# Descriptive Statistics\n",
        "print(\"\\n===== Descriptive Statistics : =====\")\n",
        "print(df.describe())\n",
        "\n",
        "# Value Counts for VARIANT_NAME\n",
        "print(\"\\n===== Value Counts for VARIANT_NAME : =====\")\n",
        "print(df.groupby('VARIANT_NAME').value_counts())\n",
        "\n",
        "# Counting Unique Users in USER_ID\n",
        "print(\"\\n===== Counting Unique Users in USER_ID : =====\")\n",
        "print(df['USER_ID'].nunique())\n"
      ],
      "metadata": {
        "execution": {
          "iopub.status.busy": "2023-11-06T18:17:34.663181Z",
          "iopub.execute_input": "2023-11-06T18:17:34.663604Z",
          "iopub.status.idle": "2023-11-06T18:17:34.698452Z",
          "shell.execute_reply.started": "2023-11-06T18:17:34.66357Z",
          "shell.execute_reply": "2023-11-06T18:17:34.697253Z"
        },
        "trusted": true,
        "id": "4hquSCDYrvun",
        "colab": {
          "base_uri": "https://localhost:8080/"
        },
        "outputId": "b8fff755-ab39-451a-ea3c-7dffd1fdb7ac"
      },
      "execution_count": null,
      "outputs": [
        {
          "output_type": "stream",
          "name": "stdout",
          "text": [
            "===== Info : =====\n",
            "<class 'pandas.core.frame.DataFrame'>\n",
            "RangeIndex: 10000 entries, 0 to 9999\n",
            "Data columns (total 3 columns):\n",
            " #   Column        Non-Null Count  Dtype  \n",
            "---  ------        --------------  -----  \n",
            " 0   USER_ID       10000 non-null  int64  \n",
            " 1   VARIANT_NAME  10000 non-null  object \n",
            " 2   REVENUE       10000 non-null  float64\n",
            "dtypes: float64(1), int64(1), object(1)\n",
            "memory usage: 234.5+ KB\n",
            "\n",
            "===== Columns : =====\n",
            "Index(['USER_ID', 'VARIANT_NAME', 'REVENUE'], dtype='object')\n",
            "\n",
            "===== Missing Values : =====\n",
            "USER_ID         0\n",
            "VARIANT_NAME    0\n",
            "REVENUE         0\n",
            "dtype: int64\n",
            "\n",
            "===== Descriptive Statistics : =====\n",
            "            USER_ID       REVENUE\n",
            "count  10000.000000  10000.000000\n",
            "mean    4981.080200      0.099447\n",
            "std     2890.590115      2.318529\n",
            "min        2.000000      0.000000\n",
            "25%     2468.750000      0.000000\n",
            "50%     4962.000000      0.000000\n",
            "75%     7511.500000      0.000000\n",
            "max    10000.000000    196.010000\n",
            "\n",
            "===== Value Counts for VARIANT_NAME : =====\n",
            "VARIANT_NAME  USER_ID  REVENUE\n",
            "control       5652     0.00       6\n",
            "              1782     0.00       5\n",
            "              543      0.00       4\n",
            "              1007     0.00       4\n",
            "              1184     0.00       4\n",
            "                                 ..\n",
            "variant       9979     0.00       1\n",
            "              9982     0.00       1\n",
            "              9983     0.00       1\n",
            "              9990     0.00       1\n",
            "              9996     6.46       1\n",
            "Name: count, Length: 7933, dtype: int64\n",
            "\n",
            "===== Counting Unique Users in USER_ID : =====\n",
            "6324\n"
          ]
        }
      ]
    },
    {
      "cell_type": "markdown",
      "source": [
        "# Average Revenue by VARIANT_NAME"
      ],
      "metadata": {
        "id": "1UJ0wnvyrvup"
      }
    },
    {
      "cell_type": "code",
      "source": [
        "#TODO\n",
        "df.groupby('VARIANT_NAME')['REVENUE'].mean()"
      ],
      "metadata": {
        "execution": {
          "iopub.status.busy": "2023-11-06T18:18:57.601805Z",
          "iopub.execute_input": "2023-11-06T18:18:57.602256Z",
          "iopub.status.idle": "2023-11-06T18:18:57.619241Z",
          "shell.execute_reply.started": "2023-11-06T18:18:57.602219Z",
          "shell.execute_reply": "2023-11-06T18:18:57.618008Z"
        },
        "trusted": true,
        "id": "FEl4TOdKrvuq",
        "colab": {
          "base_uri": "https://localhost:8080/",
          "height": 178
        },
        "outputId": "e67d7829-5315-42e5-b8a0-3a3e8b7212ea"
      },
      "execution_count": null,
      "outputs": [
        {
          "output_type": "execute_result",
          "data": {
            "text/plain": [
              "VARIANT_NAME\n",
              "control    0.129013\n",
              "variant    0.070070\n",
              "Name: REVENUE, dtype: float64"
            ],
            "text/html": [
              "<div>\n",
              "<style scoped>\n",
              "    .dataframe tbody tr th:only-of-type {\n",
              "        vertical-align: middle;\n",
              "    }\n",
              "\n",
              "    .dataframe tbody tr th {\n",
              "        vertical-align: top;\n",
              "    }\n",
              "\n",
              "    .dataframe thead th {\n",
              "        text-align: right;\n",
              "    }\n",
              "</style>\n",
              "<table border=\"1\" class=\"dataframe\">\n",
              "  <thead>\n",
              "    <tr style=\"text-align: right;\">\n",
              "      <th></th>\n",
              "      <th>REVENUE</th>\n",
              "    </tr>\n",
              "    <tr>\n",
              "      <th>VARIANT_NAME</th>\n",
              "      <th></th>\n",
              "    </tr>\n",
              "  </thead>\n",
              "  <tbody>\n",
              "    <tr>\n",
              "      <th>control</th>\n",
              "      <td>0.129013</td>\n",
              "    </tr>\n",
              "    <tr>\n",
              "      <th>variant</th>\n",
              "      <td>0.070070</td>\n",
              "    </tr>\n",
              "  </tbody>\n",
              "</table>\n",
              "</div><br><label><b>dtype:</b> float64</label>"
            ]
          },
          "metadata": {},
          "execution_count": 4
        }
      ]
    },
    {
      "cell_type": "markdown",
      "source": [
        "What if H0: M1 = M2 ?\n",
        "What about H1: M1 1= M2 ?"
      ],
      "metadata": {
        "id": "VI4aeoclrvur"
      }
    },
    {
      "cell_type": "markdown",
      "source": [
        "*We want to test the null hypothesis that the average revenue is the same in both groups (H₀: M₁ = M₂), against the alternative that the averages differ (H₁: M₁ ≠ M₂).*\n",
        "\n",
        "*In the following steps, we will test the assumptions required for statistical testing (such as normality and variance equality), and then apply an appropriate test to determine whether this difference is statistically significant.*"
      ],
      "metadata": {
        "id": "Qp1uOAHFsOZ5"
      }
    },
    {
      "cell_type": "markdown",
      "source": [
        "# Assumptions Control:\n",
        "*# 1- Normality Assumptions*\n",
        "*# 2- Homogeneity of Variances Assumption*"
      ],
      "metadata": {
        "id": "9nwdJ5OPrvus"
      }
    },
    {
      "cell_type": "code",
      "source": [
        "# TODO : test the normality of revenue data in two groups (variant and control) within your DataFrame df using the Shapiro-Wilk test, what can you conclude ?\n",
        "# Control group\n",
        "stat, p_value = shapiro(df[df['VARIANT_NAME'] == 'control']['REVENUE'])\n",
        "print('Control group - Shapiro Statistic: %.3f, p-value: %.3f' % (stat, p_value))\n",
        "\n",
        "# Variant group\n",
        "stat, p_value = shapiro(df[df['VARIANT_NAME'] == 'variant']['REVENUE'])\n",
        "print('Variant group - Shapiro Statistic: %.3f, p-value: %.3f' % (stat, p_value))"
      ],
      "metadata": {
        "execution": {
          "iopub.status.busy": "2023-11-06T18:33:49.418255Z",
          "iopub.execute_input": "2023-11-06T18:33:49.419188Z",
          "iopub.status.idle": "2023-11-06T18:33:49.439409Z",
          "shell.execute_reply.started": "2023-11-06T18:33:49.41913Z",
          "shell.execute_reply": "2023-11-06T18:33:49.438008Z"
        },
        "trusted": true,
        "id": "TT2sJwFprvut",
        "colab": {
          "base_uri": "https://localhost:8080/"
        },
        "outputId": "3d7d0e8d-4cda-4d54-e222-08572fc412bf"
      },
      "execution_count": null,
      "outputs": [
        {
          "output_type": "stream",
          "name": "stdout",
          "text": [
            "Control group - Shapiro Statistic: 0.018, p-value: 0.000\n",
            "Variant group - Shapiro Statistic: 0.027, p-value: 0.000\n"
          ]
        },
        {
          "output_type": "stream",
          "name": "stderr",
          "text": [
            "/usr/local/lib/python3.11/dist-packages/scipy/stats/_axis_nan_policy.py:573: UserWarning: scipy.stats.shapiro: For N > 5000, computed p-value may not be accurate. Current N is 5016.\n",
            "  res = hypotest_fun_out(*samples, **kwds)\n"
          ]
        }
      ]
    },
    {
      "cell_type": "markdown",
      "source": [
        "*In both cases, the p-value is equal to 0, which is far below the 0.05 threshold.\n",
        "Therefore, we reject the null hypothesis of normality for both groups.\n",
        "This means that the revenue data in both groups does not follow a normal distribution, and we should use non-parametric statistical tests for comparing them.*"
      ],
      "metadata": {
        "id": "15LVcHOJuJOq"
      }
    },
    {
      "cell_type": "code",
      "source": [
        "# TODO : test for the homogeneity of variances between two groups (variant and control) within your DataFrame df using the Levene's test,  what can you conclude ?\n",
        "control_revenue = df[df['VARIANT_NAME'] == 'control']['REVENUE']\n",
        "variant_revenue = df[df['VARIANT_NAME'] == 'variant']['REVENUE']\n",
        "\n",
        "stat, p_value = levene(control_revenue, variant_revenue)\n",
        "print('Levene Statistic: %.3f, p-value: %.3f' % (stat, p_value))"
      ],
      "metadata": {
        "execution": {
          "iopub.status.busy": "2023-11-06T18:36:19.230691Z",
          "iopub.execute_input": "2023-11-06T18:36:19.231134Z",
          "iopub.status.idle": "2023-11-06T18:36:19.251023Z",
          "shell.execute_reply.started": "2023-11-06T18:36:19.231103Z",
          "shell.execute_reply": "2023-11-06T18:36:19.249467Z"
        },
        "trusted": true,
        "id": "n_X3_fU2rvuv",
        "colab": {
          "base_uri": "https://localhost:8080/"
        },
        "outputId": "12a11f14-c80c-4d34-ebef-8baeb01758f3"
      },
      "execution_count": null,
      "outputs": [
        {
          "output_type": "stream",
          "name": "stdout",
          "text": [
            "Levene Statistic: 1.616, p-value: 0.204\n"
          ]
        }
      ]
    },
    {
      "cell_type": "markdown",
      "source": [
        "*The Levene’s test was used to assess the equality of variances between the control and variant groups.*\n",
        "\n",
        "*The test returned a p-value of 0.204, which is greater than the 0.05 threshold.\n",
        "Therefore, we do not reject the null hypothesis, and we can assume that the variances between the two groups are equal.*"
      ],
      "metadata": {
        "id": "HcPd_yrOvZ9r"
      }
    },
    {
      "cell_type": "markdown",
      "source": [
        "# Non-Parametric Test (mannwhitneyu Test)"
      ],
      "metadata": {
        "id": "thz0Mml0rvuw"
      }
    },
    {
      "cell_type": "code",
      "source": [
        "# TODO : perform the Mann-Whitney U test for comparing the average revenue between the variant and control groups in your DataFrame, what can you conclude ?\n",
        "\n",
        "stat, p_value = mannwhitneyu(control_revenue, variant_revenue)\n",
        "print('Mann-Whitney U Statistic: %.3f, p-value: %.3f' % (stat, p_value))"
      ],
      "metadata": {
        "execution": {
          "iopub.status.busy": "2023-11-06T18:38:28.694822Z",
          "iopub.execute_input": "2023-11-06T18:38:28.695244Z",
          "iopub.status.idle": "2023-11-06T18:38:28.727682Z",
          "shell.execute_reply.started": "2023-11-06T18:38:28.695212Z",
          "shell.execute_reply": "2023-11-06T18:38:28.726189Z"
        },
        "trusted": true,
        "id": "HGcWTyuUrvuw",
        "colab": {
          "base_uri": "https://localhost:8080/"
        },
        "outputId": "6bd63a9c-280c-49ec-a013-1a610dbd6247"
      },
      "execution_count": null,
      "outputs": [
        {
          "output_type": "stream",
          "name": "stdout",
          "text": [
            "Mann-Whitney U Statistic: 12521564.000, p-value: 0.478\n"
          ]
        }
      ]
    },
    {
      "cell_type": "markdown",
      "source": [
        "*The Mann-Whitney U test comparing revenues between the control and variant groups returned a p-value of 0.478.\n",
        "As this is greater than 0.05, we do not reject the null hypothesis.\n",
        "There is no statistically significant difference in revenue distributions between the two groups.*"
      ],
      "metadata": {
        "id": "C_sp-1Sw0LU3"
      }
    },
    {
      "cell_type": "code",
      "source": [
        "# TODO : create a bar plot showing the average revenues by variant names using the seaborn library\n",
        "average_revenue_by_variant = df.groupby('VARIANT_NAME')['REVENUE'].mean().reset_index()\n",
        "\n",
        "# Create a bar plot\n",
        "plt.figure(figsize=(8, 6))\n",
        "sns.barplot(x='VARIANT_NAME', y='REVENUE', data=average_revenue_by_variant)\n",
        "\n",
        "plt.title('Average Revenues by Variant Names')\n",
        "plt.xlabel('Variant Name')\n",
        "plt.ylabel('Average Revenue')\n",
        "\n",
        "plt.show()"
      ],
      "metadata": {
        "execution": {
          "iopub.status.busy": "2023-11-06T18:45:29.181657Z",
          "iopub.execute_input": "2023-11-06T18:45:29.18208Z",
          "iopub.status.idle": "2023-11-06T18:45:29.640026Z",
          "shell.execute_reply.started": "2023-11-06T18:45:29.182049Z",
          "shell.execute_reply": "2023-11-06T18:45:29.638846Z"
        },
        "trusted": true,
        "id": "jtjQGGsDrvux",
        "colab": {
          "base_uri": "https://localhost:8080/",
          "height": 509
        },
        "outputId": "f9cc9678-f894-4e4b-b562-fdb7f63b698d"
      },
      "execution_count": null,
      "outputs": [
        {
          "output_type": "display_data",
          "data": {
            "text/plain": [
              "<Figure size 800x600 with 1 Axes>"
            ],
            "image/png": "[encoded data removed]"
          },
          "metadata": {}
        }
      ]
    }
  ]
}