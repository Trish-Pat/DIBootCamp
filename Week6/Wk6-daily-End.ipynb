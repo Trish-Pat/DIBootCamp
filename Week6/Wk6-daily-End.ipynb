from google.colab import files
import zipfile
import sqlite3
import pandas as pd
import os

# Upload the zip file containing your SQLite database
uploaded = files.upload()

zip_filename = list(uploaded.keys())[0]
print(f"Uploaded zip file: {zip_filename}")

# Create a directory to extract files to
extract_dir = "/content/extracted"
os.makedirs(extract_dir, exist_ok=True)

# Extract the zip file
with zipfile.ZipFile(zip_filename, 'r') as zip_ref:
    zip_ref.extractall(extract_dir)
    print(f"Extracted files: {zip_ref.namelist()}")

# List extracted files
extracted_files = os.listdir(extract_dir)
print("\nExtracted files:")
for file in extracted_files:
    print(f"- {file}")

